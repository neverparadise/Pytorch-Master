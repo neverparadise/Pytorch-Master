{
 "cells": [
  {
   "cell_type": "code",
   "execution_count": null,
   "id": "f7873c2f",
   "metadata": {},
   "outputs": [],
   "source": [
    "# run_with_wandb.py"
   ]
  },
  {
   "cell_type": "code",
   "execution_count": 1,
   "id": "1220c661",
   "metadata": {},
   "outputs": [
    {
     "name": "stdout",
     "output_type": "stream",
     "text": [
      "Requirement already satisfied: wandb in c:\\users\\ye200\\anaconda3\\envs\\env\\lib\\site-packages (0.12.6)\n",
      "Requirement already satisfied: pathtools in c:\\users\\ye200\\anaconda3\\envs\\env\\lib\\site-packages (from wandb) (0.1.2)\n",
      "Requirement already satisfied: Click!=8.0.0,>=7.0 in c:\\users\\ye200\\anaconda3\\envs\\env\\lib\\site-packages (from wandb) (8.0.3)\n",
      "Requirement already satisfied: promise<3,>=2.0 in c:\\users\\ye200\\anaconda3\\envs\\env\\lib\\site-packages (from wandb) (2.3)\n",
      "Requirement already satisfied: GitPython>=1.0.0 in c:\\users\\ye200\\anaconda3\\envs\\env\\lib\\site-packages (from wandb) (3.1.24)\n",
      "Requirement already satisfied: subprocess32>=3.5.3 in c:\\users\\ye200\\anaconda3\\envs\\env\\lib\\site-packages (from wandb) (3.5.4)\n",
      "Requirement already satisfied: psutil>=5.0.0 in c:\\users\\ye200\\anaconda3\\envs\\env\\lib\\site-packages (from wandb) (5.8.0)\n",
      "Requirement already satisfied: docker-pycreds>=0.4.0 in c:\\users\\ye200\\anaconda3\\envs\\env\\lib\\site-packages (from wandb) (0.4.0)\n",
      "Requirement already satisfied: python-dateutil>=2.6.1 in c:\\users\\ye200\\anaconda3\\envs\\env\\lib\\site-packages (from wandb) (2.8.2)\n",
      "Requirement already satisfied: six>=1.13.0 in c:\\users\\ye200\\anaconda3\\envs\\env\\lib\\site-packages (from wandb) (1.16.0)\n",
      "Requirement already satisfied: requests<3,>=2.0.0 in c:\\users\\ye200\\anaconda3\\envs\\env\\lib\\site-packages (from wandb) (2.26.0)\n",
      "Requirement already satisfied: PyYAML in c:\\users\\ye200\\anaconda3\\envs\\env\\lib\\site-packages (from wandb) (6.0)\n",
      "Requirement already satisfied: configparser>=3.8.1 in c:\\users\\ye200\\anaconda3\\envs\\env\\lib\\site-packages (from wandb) (5.1.0)\n",
      "Requirement already satisfied: sentry-sdk>=1.0.0 in c:\\users\\ye200\\anaconda3\\envs\\env\\lib\\site-packages (from wandb) (1.4.3)\n",
      "Requirement already satisfied: yaspin>=1.0.0 in c:\\users\\ye200\\anaconda3\\envs\\env\\lib\\site-packages (from wandb) (2.1.0)\n",
      "Requirement already satisfied: protobuf>=3.12.0 in c:\\users\\ye200\\anaconda3\\envs\\env\\lib\\site-packages (from wandb) (3.19.1)\n",
      "Requirement already satisfied: shortuuid>=0.5.0 in c:\\users\\ye200\\anaconda3\\envs\\env\\lib\\site-packages (from wandb) (1.0.8)\n",
      "Requirement already satisfied: importlib-metadata in c:\\users\\ye200\\anaconda3\\envs\\env\\lib\\site-packages (from Click!=8.0.0,>=7.0->wandb) (4.8.1)\n",
      "Requirement already satisfied: colorama in c:\\users\\ye200\\anaconda3\\envs\\env\\lib\\site-packages (from Click!=8.0.0,>=7.0->wandb) (0.4.4)\n",
      "Requirement already satisfied: typing-extensions>=3.7.4.3 in c:\\users\\ye200\\anaconda3\\envs\\env\\lib\\site-packages (from GitPython>=1.0.0->wandb) (3.10.0.2)\n",
      "Requirement already satisfied: gitdb<5,>=4.0.1 in c:\\users\\ye200\\anaconda3\\envs\\env\\lib\\site-packages (from GitPython>=1.0.0->wandb) (4.0.9)\n",
      "Requirement already satisfied: smmap<6,>=3.0.1 in c:\\users\\ye200\\anaconda3\\envs\\env\\lib\\site-packages (from gitdb<5,>=4.0.1->GitPython>=1.0.0->wandb) (5.0.0)\n",
      "Requirement already satisfied: idna<4,>=2.5 in c:\\users\\ye200\\anaconda3\\envs\\env\\lib\\site-packages (from requests<3,>=2.0.0->wandb) (3.3)\n",
      "Requirement already satisfied: certifi>=2017.4.17 in c:\\users\\ye200\\anaconda3\\envs\\env\\lib\\site-packages (from requests<3,>=2.0.0->wandb) (2021.5.30)\n",
      "Requirement already satisfied: charset-normalizer~=2.0.0 in c:\\users\\ye200\\anaconda3\\envs\\env\\lib\\site-packages (from requests<3,>=2.0.0->wandb) (2.0.7)\n",
      "Requirement already satisfied: urllib3<1.27,>=1.21.1 in c:\\users\\ye200\\anaconda3\\envs\\env\\lib\\site-packages (from requests<3,>=2.0.0->wandb) (1.26.7)\n",
      "Requirement already satisfied: termcolor<2.0.0,>=1.1.0 in c:\\users\\ye200\\anaconda3\\envs\\env\\lib\\site-packages (from yaspin>=1.0.0->wandb) (1.1.0)\n",
      "Requirement already satisfied: zipp>=0.5 in c:\\users\\ye200\\anaconda3\\envs\\env\\lib\\site-packages (from importlib-metadata->Click!=8.0.0,>=7.0->wandb) (3.5.0)\n"
     ]
    }
   ],
   "source": [
    "!pip install wandb"
   ]
  },
  {
   "cell_type": "code",
   "execution_count": 2,
   "id": "43d29d60",
   "metadata": {},
   "outputs": [],
   "source": [
    "import wandb"
   ]
  },
  {
   "cell_type": "code",
   "execution_count": 3,
   "id": "9539192c",
   "metadata": {},
   "outputs": [
    {
     "name": "stderr",
     "output_type": "stream",
     "text": [
      "wandb: Appending key for api.wandb.ai to your netrc file: C:\\Users\\ye200/.netrc\n"
     ]
    }
   ],
   "source": [
    "# API 키를 이용해 로그인 가능\n",
    "!wandb login \"ee5e9674b4963dbfa82038d10d0db1ad3891b16c\""
   ]
  },
  {
   "cell_type": "code",
   "execution_count": 4,
   "id": "8f62bd60",
   "metadata": {},
   "outputs": [
    {
     "data": {
      "text/plain": [
       "0"
      ]
     },
     "execution_count": 4,
     "metadata": {},
     "output_type": "execute_result"
    }
   ],
   "source": [
    "from subprocess import call\n",
    "call([\"wandb\", \"login\", \"ee5e9674b4963dbfa82038d10d0db1ad3891b16c\"])"
   ]
  },
  {
   "cell_type": "code",
   "execution_count": null,
   "id": "f346f558",
   "metadata": {},
   "outputs": [],
   "source": [
    "entity = 'rl_flip_school_team'"
   ]
  },
  {
   "cell_type": "code",
   "execution_count": 8,
   "id": "be81af2a",
   "metadata": {},
   "outputs": [
    {
     "name": "stdout",
     "output_type": "stream",
     "text": [
      "Overwriting run_cnn_with_wandb.py\n"
     ]
    }
   ],
   "source": [
    "%%writefile run_cnn_with_wandb.py\n",
    "\n",
    "import wandb\n",
    "from subprocess import call\n",
    "import torch\n",
    "import torch.optim as optim\n",
    "import torch.nn as nn\n",
    "import numpy as np\n",
    "from .dataset import MNSIT_LOADER\n",
    "from models.CNN import CNN\n",
    "import os\n",
    "\n",
    "#call([\"wandb\", \"login\", \"발급받은 API 키 입력\"])\n",
    "\n",
    "call([\"wandb\", \"login\", 'ee5e9674b4963dbfa82038d10d0db1ad3891b16c'])\n",
    "\n",
    "\n",
    "device = torch.device('cuda') if torch.cuda.is_available() else torch.device('cpu')\n",
    "config = {\n",
    "  \"learning_rate\": 0.001,\n",
    "  \"epochs\": 5,\n",
    "  \"batch_size\": 64\n",
    "}\n",
    "\n",
    "wandb.init(config=config, project=\"flipped_school\", entity=\"neverparadise\")\n",
    "\n",
    "\n",
    "batch_size = config['batch_size']\n",
    "lr = config['learning_rate']\n",
    "epochs = config['epochs']\n",
    "save_path = os.curdir + '/weights/'\n",
    "model_name = 'cnn.pth'\n",
    "train_loader, valid_loader, test_loader, shape = MNSIT_LOADER.make_loader(batch_size)\n",
    "\n",
    "def train(epoch, model, loss_func, train_loader, valid_loader, optimizer):\n",
    "    model.train()\n",
    "    for batch_index, (x, y) in enumerate(train_loader):\n",
    "        x, y = x.to(device), y.to(device)\n",
    "        optimizer.zero_grad()\n",
    "        y_pred = model(x)\n",
    "        loss = loss_func(y_pred, y)\n",
    "        loss.backward()\n",
    "        optimizer.step()\n",
    "        wandb.log({\"train_loss\": loss})\n",
    "\n",
    "\n",
    "        if batch_index % 100 == 0:\n",
    "            print(f'Train Epoch: {epoch+1} | Batch Status: {batch_index*len(x)}/{len(train_loader.dataset)} \\\n",
    "            ({100. * batch_index * batch_size / len(train_loader.dataset):.0f}% | Loss: {loss.item():.6f}')\n",
    "            torch.save(model.state_dict(), save_path + model_name)\n",
    "\n",
    "def validation(epoch, model, loss_func, valid_loader):\n",
    "    for batch_index, (x, y) in enumerate(valid_loader):\n",
    "        x, y = x.to(device), y.to(device)\n",
    "        y_pred = model(x)\n",
    "        val_loss = loss_func(y_pred, y)\n",
    "\n",
    "def test(model, loss_func, test_loader):\n",
    "    model.eval()\n",
    "    test_loss = 0\n",
    "    correct_count = 0\n",
    "    for x, y in test_loader:\n",
    "        x, y = x.to(device), y.to(device)\n",
    "        y_pred = model(x)\n",
    "        test_loss += loss_func(y_pred, y).item()\n",
    "        pred = y_pred.data.max(1, keepdim=True)[1]\n",
    "        # torch.eq : Computes element-wise equality. return counts value\n",
    "        correct_count += pred.eq(y.data.view_as(pred)).cpu().sum()\n",
    "\n",
    "    test_loss /= len(test_loader.dataset)\n",
    "    print(f'=======================\\n Test set: Average loss: {test_loss:.4f}, Accuracy: {correct_count/len(test_loader.dataset):.3}')\n",
    "\n",
    "cnn = CNN(C=shape[0], W=shape[1], H=shape[2], K=3, S=2)\n",
    "cnn = cnn.to(device)\n",
    "ce_loss = nn.CrossEntropyLoss()\n",
    "optimizer = optim.Adam(cnn.parameters(), lr=lr)\n",
    "\n",
    "for epoch in range(epochs):\n",
    "    train(epoch, cnn, ce_loss, train_loader, valid_loader, optimizer)\n",
    "\n",
    "for epoch in range(epochs):\n",
    "    validation(epoch, cnn, ce_loss, valid_loader)\n",
    "\n",
    "test(cnn, ce_loss, test_loader)"
   ]
  },
  {
   "cell_type": "code",
   "execution_count": 9,
   "id": "3afd2cbe",
   "metadata": {},
   "outputs": [
    {
     "name": "stderr",
     "output_type": "stream",
     "text": [
      "Traceback (most recent call last):\n",
      "  File \"run_cnn_with_wandb.py\", line 8, in <module>\n",
      "    from .dataset import MNSIT_LOADER\n",
      "ImportError: attempted relative import with no known parent package\n"
     ]
    }
   ],
   "source": [
    "!python run_cnn_with_wandb.py"
   ]
  },
  {
   "cell_type": "code",
   "execution_count": null,
   "id": "b4c21dbd",
   "metadata": {},
   "outputs": [],
   "source": []
  }
 ],
 "metadata": {
  "kernelspec": {
   "display_name": "Python 3 (ipykernel)",
   "language": "python",
   "name": "python3"
  },
  "language_info": {
   "codemirror_mode": {
    "name": "ipython",
    "version": 3
   },
   "file_extension": ".py",
   "mimetype": "text/x-python",
   "name": "python",
   "nbconvert_exporter": "python",
   "pygments_lexer": "ipython3",
   "version": "3.7.11"
  }
 },
 "nbformat": 4,
 "nbformat_minor": 5
}
