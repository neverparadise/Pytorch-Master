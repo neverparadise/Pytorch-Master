{
 "cells": [
  {
   "cell_type": "code",
   "execution_count": null,
   "id": "8279fc14",
   "metadata": {},
   "outputs": [],
   "source": [
    "import os\n",
    "import argparse\n",
    "\n",
    "# parser 정의\n",
    "parser = argparse.ArgumentParser(description='Argparse Tutorial')\n",
    "# add_argument()를 통해 argument의 이름, 타입, 기본 값, 도움말을 정의할 수 있다.\n",
    "parser.add_argument('-k', '--korean', type=int, default=0, help=\"Score of korean\")\n",
    "parser.add_argument('-m', '--mathematics', type=int, default=0, help=\"Score of mathematics\")\n",
    "parser.add_argument('-e', '--english', type=int, default=0, help=\"Score of english\")\n",
    "\n",
    "# add_argument() 함수를 호출하면 parser 인스턴ㅅ 내부에 해당 이름을 가지는 멤버변수를 생성\n",
    "# parse_arg()를 통해 프로그램 실행시 parser가 실행되도록 합니다.\n",
    "args = parser.parse_args()\n",
    "\n",
    "def average(args):\n",
    "    total_score = 0\n",
    "    total_score += args.korean\n",
    "    total_score += args.mathematics\n",
    "    total_score += args.english\n",
    "    print(total_score / 3)\n",
    "    \n",
    "average(args)"
   ]
  }
 ],
 "metadata": {
  "kernelspec": {
   "display_name": "Python 3 (ipykernel)",
   "language": "python",
   "name": "python3"
  },
  "language_info": {
   "codemirror_mode": {
    "name": "ipython",
    "version": 3
   },
   "file_extension": ".py",
   "mimetype": "text/x-python",
   "name": "python",
   "nbconvert_exporter": "python",
   "pygments_lexer": "ipython3",
   "version": "3.7.11"
  }
 },
 "nbformat": 4,
 "nbformat_minor": 5
}
