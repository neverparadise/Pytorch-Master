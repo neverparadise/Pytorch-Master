{
 "cells": [
  {
   "cell_type": "markdown",
   "id": "97271d30",
   "metadata": {},
   "source": [
    "# yaml tutorial"
   ]
  },
  {
   "cell_type": "markdown",
   "id": "9c2f6414",
   "metadata": {},
   "source": [
    "이전에 argparse_tutorial을 진행하면서 어떻게 인자들을 파싱하는지를 배웠습니다.  \n",
    "하지만 이렇게 입력하는 과정도 어쩐지 귀찮다는 생각이 듭니다.  \n",
    "이 과정을 자동화하기 위해서 설정 파일을 만들어 놓고 이를 불러오는 식으로 사용하게 됩니다.  \n",
    "보통 설정파일의 형식은 yaml 또는 json을 많이 사용합니다. yaml의 경우 하이퍼파라미터, json의 경우 데이터의 라벨을 주로 기록합니다.  \n",
    "예를 들면 사용하는 형식은 다음과 같습니다. \n",
    "\n",
    "python run_cnn.py --model_path 'C:/Users/Aiffel/cnn/configs/cnn.yaml'"
   ]
  },
  {
   "cell_type": "markdown",
   "id": "2b78d910",
   "metadata": {},
   "source": [
    "## config 파일 생성  \n",
    "그럼 이제 직접 yaml 파일을 만들어 보고 불러와보겠습니다.  \n",
    "1) Practice 폴더 내에 configs 폴더를 만드세요.   \n",
    "2) configs 폴더 내에 cnn.yaml 파일을 만드세요.  \n",
    "3) argparse에서 사용했던 하이퍼파라미터 정보들을 그대로 기록하고 저장하세요.  \n",
    "4) yaml 파일 내에서는 키: 값 의 쌍으로 값을 저장합니다.  \n",
    "ex)  \n",
    "leaning_rate: 0.001"
   ]
  },
  {
   "cell_type": "markdown",
   "id": "8742b8c7",
   "metadata": {},
   "source": [
    "## yaml 파일 로드"
   ]
  },
  {
   "cell_type": "code",
   "execution_count": 1,
   "id": "8d1c7c33",
   "metadata": {},
   "outputs": [],
   "source": [
    "import yaml"
   ]
  },
  {
   "cell_type": "code",
   "execution_count": 9,
   "id": "001f48ff",
   "metadata": {},
   "outputs": [
    {
     "name": "stdout",
     "output_type": "stream",
     "text": [
      "<class 'dict'>\n",
      "<class 'dict'>\n",
      "{'leaning_rate': 0.001, 'epochs': 3, 'batch_size': 16, 'kernel_size': 3, 'stride': 2}\n",
      "leaning_rate 0.001\n",
      "epochs 3\n",
      "batch_size 16\n",
      "kernel_size 3\n",
      "stride 2\n",
      "<class 'dict'>\n",
      "{'name1': '김국진', 'name2': '김수연'}\n",
      "name1 김국진\n",
      "name2 김수연\n"
     ]
    }
   ],
   "source": [
    "# with 구문으로 파일을 불러옵니다.\n",
    "with open('./configs/cnn.yaml' ,'r') as f:\n",
    "    config = yaml.load(f, Loader=yaml.FullLoader)\n",
    "    print(type(config))\n",
    "\n",
    "def print_config(**kwargs):\n",
    "    print(type(kwargs))\n",
    "    print(kwargs)\n",
    "    for key, value in kwargs.items():\n",
    "        print(key, value) \n",
    "\n",
    "print_config(**config)\n",
    "print_config(name1=\"김국진\", name2=\"김수연\")"
   ]
  },
  {
   "cell_type": "markdown",
   "id": "b9018ced",
   "metadata": {},
   "source": [
    "# Quiz (Hard)   \n",
    "이제 argparse와 yaml을 합쳐서 편하게 정보를 불러오는 실행파일을 만들어봅시다.  \n",
    "\n",
    "1) run_cnn2 라는 파이썬 파일을 만드세요.  \n",
    "2) argparse를 이용해 config_path라는 argument를 추가해줍니다. 인자의 타입은 스트링입니다.  \n",
    "3) 위에서 구현한 yaml 파일을 로드하는 코드에서 config_path를 활용하여 하이퍼파라미터 정보를 불러오세요  \n",
    "4) 모든 하이퍼파라미터들을 출력해서 정상적으로 불러왔는지 확인하세요.  "
   ]
  },
  {
   "cell_type": "code",
   "execution_count": 18,
   "id": "bc57addb",
   "metadata": {},
   "outputs": [
    {
     "name": "stdout",
     "output_type": "stream",
     "text": [
      "Overwriting run_cnn2.py\n"
     ]
    }
   ],
   "source": [
    "%%writefile run_cnn2.py \n",
    "\n",
    "import os\n",
    "import argparse\n",
    "import yaml\n",
    "\n",
    "parser = argparse.ArgumentParser(description='run_cnn2')\n",
    "parser.add_argument('--config_path', type=str, default='./configs/cnn.yaml', help='config file path')\n",
    "args = parser.parse_args()\n",
    "config_path = args.config_path\n",
    "\n",
    "with open(config_path ,'r') as f:\n",
    "    config = yaml.load(f, Loader=yaml.FullLoader)\n",
    "    print(type(config))\n",
    "    \n",
    "batch_size = config['batch_size']\n",
    "lr = config['learning_rate']\n",
    "epochs = config['epochs']\n",
    "kernel_size = config['kernel_size']\n",
    "stride = config['stride']\n",
    "\n",
    "print(config)"
   ]
  },
  {
   "cell_type": "code",
   "execution_count": 21,
   "id": "f1278fbc",
   "metadata": {},
   "outputs": [
    {
     "name": "stdout",
     "output_type": "stream",
     "text": [
      "<class 'dict'>\n",
      "{'learning_rate': 0.001, 'epochs': 10, 'batch_size': 32, 'kernel_size': 3, 'stride': 2}\n"
     ]
    }
   ],
   "source": [
    "# 주의해야할 점 : 파일이름의 확장자까지 끝까지 적을 것!\n",
    "# 파일 경로를 잘 확인할 것!\n",
    "!python run_cnn2.py --config_path ./configs/cnn.yaml"
   ]
  },
  {
   "cell_type": "markdown",
   "id": "46626891",
   "metadata": {},
   "source": [
    "## Json Tutorial  \n",
    "json 파일을 작성하고 불러오는 과정은 yaml 파일과 굉장히 유사합니다.  "
   ]
  },
  {
   "cell_type": "markdown",
   "id": "de145404",
   "metadata": {},
   "source": [
    "JSON 파일의 예제는 아래와 같습니다. \n",
    "\n",
    "{\n",
    "\n",
    "   \"이름\": \"홍길동\",                          → 스트링\n",
    "\n",
    "   \"나이\": 25,                                      → 숫자 (정수)\n",
    "\n",
    "   \"특기\": [\"농구\", \"도술\"],              → list 표현 가능\n",
    "\n",
    "    \"가족관계\": {\"아버지\": \"홍판서\", \"어머니\": \"춘섬\"},  → array 표현 가능\n",
    "\n",
    "   \"결혼 여부\": true                          → Boolean \n",
    "\n",
    "}\n"
   ]
  },
  {
   "cell_type": "markdown",
   "id": "84ceced1",
   "metadata": {},
   "source": [
    "## json 파일 생성  \n",
    "마찬가지로 직접 json 파일을 만들어 보고 불러와보겠습니다.  \n",
    "1) Practice 폴더 내에 configs 폴더를 만드세요.  \n",
    "2) configs 폴더 내에 cnn.json 파일을 만드세요.  \n",
    "3) argparse에서 사용했던 하이퍼파라미터 정보들을 그대로 기록하고 저장하세요.  \n",
    "4) json 파일에서도 키: 값 의 쌍으로 값을 저장합니다.    \n",
    "5) yaml과의 차이점은 키 값을 쌍따옴표\"\"로 감싸야한다는 것과 {} 괄호 및 콤마, 를 사용하는 것입니다.  \n"
   ]
  },
  {
   "cell_type": "code",
   "execution_count": null,
   "id": "15c1430c",
   "metadata": {},
   "outputs": [],
   "source": []
  }
 ],
 "metadata": {
  "kernelspec": {
   "display_name": "Python 3 (ipykernel)",
   "language": "python",
   "name": "python3"
  },
  "language_info": {
   "codemirror_mode": {
    "name": "ipython",
    "version": 3
   },
   "file_extension": ".py",
   "mimetype": "text/x-python",
   "name": "python",
   "nbconvert_exporter": "python",
   "pygments_lexer": "ipython3",
   "version": "3.7.11"
  }
 },
 "nbformat": 4,
 "nbformat_minor": 5
}
