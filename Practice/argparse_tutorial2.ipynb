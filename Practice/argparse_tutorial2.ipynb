{
 "cells": [
  {
   "cell_type": "code",
   "execution_count": null,
   "id": "f8a94e2f",
   "metadata": {},
   "outputs": [],
   "source": [
    "import os\n",
    "import argparse\n",
    "\n",
    "parser = argparse.ArgumentParser(description='Argparse Tutorial2')\n",
    "parser.add_argument('--name', type=str, default=\"홍길동\", help=None)\n",
    "parser.add_argument('--height', type=float, default=175.0, help=None)\n",
    "parser.add_argument('--foot_size', type=int, default=270, help=None)\n",
    "parser.add_argument('--wish_list', type=list, default=[1, 2, 3, 4], help=None)\n",
    "\n",
    "args = parser.parse_args()\n",
    "\n",
    "def print_user_info(args):\n",
    "    print(f\"{args.name}의 키는 {args.height}, 발사이즈는 {args.foot_size} 입니다.\")\n",
    "\n",
    "print_user_info(args)"
   ]
  }
 ],
 "metadata": {
  "kernelspec": {
   "display_name": "Python 3 (ipykernel)",
   "language": "python",
   "name": "python3"
  },
  "language_info": {
   "codemirror_mode": {
    "name": "ipython",
    "version": 3
   },
   "file_extension": ".py",
   "mimetype": "text/x-python",
   "name": "python",
   "nbconvert_exporter": "python",
   "pygments_lexer": "ipython3",
   "version": "3.7.11"
  }
 },
 "nbformat": 4,
 "nbformat_minor": 5
}
