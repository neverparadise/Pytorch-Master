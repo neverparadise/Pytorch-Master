{
 "cells": [
  {
   "cell_type": "code",
   "execution_count": 19,
   "id": "92b1cca6",
   "metadata": {},
   "outputs": [
    {
     "name": "stdout",
     "output_type": "stream",
     "text": [
      "Overwriting MNIST_LOADER.py\n"
     ]
    }
   ],
   "source": [
    "%%writefile MNIST_LOADER.py\n",
    "\n",
    "import torch\n",
    "from torch.utils.data import DataLoader, Dataset \n",
    "from torchvision import datasets, transforms\n",
    "\n",
    "# 데이터로더를 리턴하는 함수를 만든다.\n",
    "def make_loader(batch_size):\n",
    "    device = torch.device('cuda') if torch.cuda.is_available() else torch.device('cpu')\n",
    "    train_dataset = datasets.MNIST(root='./mnist_data/', train=True, download=True, transform=transforms.ToTensor())\n",
    "    valid_dataset = datasets.MNIST(root='./mnist_data/', train=False, download=True, transform=transforms.ToTensor())\n",
    "    test_dataset = datasets.MNIST(root='./mnist_data/', train=False, download=True, transform=transforms.ToTensor())\n",
    "    train_loader = DataLoader(dataset=train_dataset, batch_size=batch_size, shuffle=True)\n",
    "    valid_loader = DataLoader(dataset=test_dataset, batch_size=batch_size, shuffle=True)\n",
    "    test_loader = DataLoader(dataset=test_dataset, batch_size=batch_size, shuffle=True)\n",
    "    shape = train_dataset[0][0].shape\n",
    "    channel = shape[0]\n",
    "    width = shape[1]\n",
    "    height = shape[2]\n",
    "    print(channel, width, height)\n",
    "    return train_loader, valid_loader, test_loader, shape\n",
    "\n",
    "#train_loader, valid_loader, test_loader, shpae = make_loader(32)"
   ]
  },
  {
   "cell_type": "code",
   "execution_count": 17,
   "id": "ded06d1d",
   "metadata": {},
   "outputs": [],
   "source": [
    "import torch\n",
    "from torch.utils.data import DataLoader, Dataset \n",
    "from torchvision import datasets, transforms\n",
    "\n",
    "def make_loader(batch_size):\n",
    "    device = torch.device('cuda') if torch.cuda.is_available() else torch.device('cpu')\n",
    "    train_dataset = datasets.MNIST(root='./mnist_data/', train=True, download=True, transform=transforms.ToTensor())\n",
    "    valid_dataset = datasets.MNIST(root='./mnist_data/', train=False, download=True, transform=transforms.ToTensor())\n",
    "    test_dataset = datasets.MNIST(root='./mnist_data/', train=False, download=True, transform=transforms.ToTensor())\n",
    "    train_loader = DataLoader(dataset=train_dataset, batch_size=batch_size, shuffle=True)\n",
    "    valid_loader = DataLoader(dataset=test_dataset, batch_size=batch_size, shuffle=True)\n",
    "    test_loader = DataLoader(dataset=test_dataset, batch_size=batch_size, shuffle=True)\n",
    "    print(type(train_dataset))\n",
    "    print(train_dataset)\n",
    "    print(train_dataset[0][0].shape)\n",
    "    print(train_dataset[0][1])\n",
    "    \n",
    "    shape = train_dataset[0][0].shape\n",
    "    channel = shape[0]\n",
    "    width = shape[1]\n",
    "    height = shape[2]\n",
    "    print(channel, width, height)\n",
    "    return train_loader, valid_loader, test_loader, shape"
   ]
  },
  {
   "cell_type": "code",
   "execution_count": 18,
   "id": "2f49fcb5",
   "metadata": {},
   "outputs": [
    {
     "name": "stdout",
     "output_type": "stream",
     "text": [
      "<class 'torchvision.datasets.mnist.MNIST'>\n",
      "Dataset MNIST\n",
      "    Number of datapoints: 60000\n",
      "    Root location: ./mnist_data/\n",
      "    Split: Train\n",
      "    StandardTransform\n",
      "Transform: ToTensor()\n",
      "torch.Size([1, 28, 28])\n",
      "5\n",
      "1 28 28\n"
     ]
    },
    {
     "data": {
      "text/plain": [
       "(<torch.utils.data.dataloader.DataLoader at 0x160ea0bd448>,\n",
       " <torch.utils.data.dataloader.DataLoader at 0x160ea0bd608>,\n",
       " <torch.utils.data.dataloader.DataLoader at 0x160ea0bd688>,\n",
       " torch.Size([1, 28, 28]))"
      ]
     },
     "execution_count": 18,
     "metadata": {},
     "output_type": "execute_result"
    }
   ],
   "source": [
    "make_loader(16)"
   ]
  },
  {
   "cell_type": "code",
   "execution_count": null,
   "id": "03a3b8f6",
   "metadata": {},
   "outputs": [],
   "source": []
  }
 ],
 "metadata": {
  "kernelspec": {
   "display_name": "Python 3 (ipykernel)",
   "language": "python",
   "name": "python3"
  },
  "language_info": {
   "codemirror_mode": {
    "name": "ipython",
    "version": 3
   },
   "file_extension": ".py",
   "mimetype": "text/x-python",
   "name": "python",
   "nbconvert_exporter": "python",
   "pygments_lexer": "ipython3",
   "version": "3.7.11"
  }
 },
 "nbformat": 4,
 "nbformat_minor": 5
}
