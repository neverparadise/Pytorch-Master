{
 "cells": [
  {
   "cell_type": "markdown",
   "id": "19ea9540",
   "metadata": {},
   "source": [
    "## argparser"
   ]
  },
  {
   "cell_type": "code",
   "execution_count": 4,
   "id": "8e323951",
   "metadata": {},
   "outputs": [],
   "source": [
    "# 1. 성적표 가중치 (한글, 수학, 영어) \n",
    "# 2. 고객 정보 저장 및 출력\n",
    "\n",
    "# argument parser : 파이썬 프로그램을 실행할 때 \n",
    "# 함수나 클래스에 사용할 원하는 argument를 가져오게 해줍니다. "
   ]
  },
  {
   "cell_type": "code",
   "execution_count": 3,
   "id": "e27f73e6",
   "metadata": {},
   "outputs": [
    {
     "name": "stderr",
     "output_type": "stream",
     "text": [
      "usage: ipykernel_launcher.py [-h] [--korean KOREAN]\n",
      "                             [--mathematcis MATHEMATCIS] [--english ENGLISH]\n",
      "ipykernel_launcher.py: error: unrecognized arguments: -f C:\\Users\\ye200\\AppData\\Roaming\\jupyter\\runtime\\kernel-3c09ac97-5502-4bbb-8da3-15d0de87fd80.json\n"
     ]
    },
    {
     "ename": "SystemExit",
     "evalue": "2",
     "output_type": "error",
     "traceback": [
      "An exception has occurred, use %tb to see the full traceback.\n",
      "\u001b[1;31mSystemExit\u001b[0m\u001b[1;31m:\u001b[0m 2\n"
     ]
    },
    {
     "name": "stderr",
     "output_type": "stream",
     "text": [
      "c:\\users\\ye200\\anaconda3\\envs\\env\\lib\\site-packages\\IPython\\core\\interactiveshell.py:3449: UserWarning: To exit: use 'exit', 'quit', or Ctrl-D.\n",
      "  warn(\"To exit: use 'exit', 'quit', or Ctrl-D.\", stacklevel=1)\n"
     ]
    }
   ],
   "source": [
    "import os\n",
    "import argparse\n",
    "\n",
    "# parser 정의\n",
    "parser = argparse.ArgumentParser(description='Argparse Tutorial')\n",
    "# add_argument()를 통해 argument의 이름, 타입, 기본 값, 도움말을 정의할 수 있다.\n",
    "parser.add_argument('-k', '--korean', type=int, default=0, help=\"Score of korean\")\n",
    "parser.add_argument('-m', '--mathematics', type=int, default=0, help=\"Score of mathematics\")\n",
    "parser.add_argument('-e', '--english', type=int, default=0, help=\"Score of english\")\n",
    "\n",
    "# add_argument() 함수를 호출하면 parser 인스턴ㅅ 내부에 해당 이름을 가지는 멤버변수를 생성\n",
    "# parse_arg()를 통해 프로그램 실행시 parser가 실행되도록 합니다.\n",
    "args = parser.parse_args()\n",
    "\n",
    "subject_info = {'korean': args.n}\n",
    "def average(args):\n",
    "    total_score = 0\n",
    "    total_score += args.korean\n",
    "    total_score += args.mathematics\n",
    "    total_score += args.english\n",
    "    print(total_score / 3)"
   ]
  },
  {
   "cell_type": "code",
   "execution_count": 5,
   "id": "cbb32ce7",
   "metadata": {},
   "outputs": [
    {
     "name": "stdout",
     "output_type": "stream",
     "text": [
      "usage: argparse_tutorial.py [-h] [-k KOREAN] [-m MATHEMATICS] [-e ENGLISH]\n",
      "\n",
      "Argparse Tutorial\n",
      "\n",
      "optional arguments:\n",
      "  -h, --help            show this help message and exit\n",
      "  -k KOREAN, --korean KOREAN\n",
      "                        Score of korean\n",
      "  -m MATHEMATICS, --mathematics MATHEMATICS\n",
      "                        Score of mathematics\n",
      "  -e ENGLISH, --english ENGLISH\n",
      "                        Score of english\n"
     ]
    }
   ],
   "source": [
    "!python argparse_tutorial.py --help"
   ]
  },
  {
   "cell_type": "code",
   "execution_count": 7,
   "id": "ee16c38b",
   "metadata": {},
   "outputs": [
    {
     "name": "stdout",
     "output_type": "stream",
     "text": [
      "80.0\n"
     ]
    }
   ],
   "source": [
    "!python argparse_tutorial.py --korean 70 --mathematics 80 --english 90"
   ]
  },
  {
   "cell_type": "code",
   "execution_count": 8,
   "id": "d21b0761",
   "metadata": {},
   "outputs": [],
   "source": [
    "# argparser는 코드 내부에서 자주 변경해야하는 값들을 미리 입력할 때 사용한다!"
   ]
  },
  {
   "cell_type": "markdown",
   "id": "d992ef6b",
   "metadata": {},
   "source": [
    "## Quiz (Normal)  \n",
    "고객의 이름, 키, 발사이즈, 선호 브랜드 리스트를 입력 받아서 저장하고 출력하는 프로그램을 작성하세요.  \n",
    "argument의 종류는 --name, --height, --foot_size, --wish_list  \n",
    "각각 type은 string, float, int, int  \n",
    "각각 default는 \"홍길동\", 175.0, 270, [1,2,3,4]  \n",
    "파이썬 파일로 만들어서 여러분의 정보를 입력하고 출력하세요  "
   ]
  },
  {
   "cell_type": "code",
   "execution_count": 11,
   "id": "2c089798",
   "metadata": {},
   "outputs": [
    {
     "name": "stdout",
     "output_type": "stream",
     "text": [
      "Writing argparse_tutorial3.py\n"
     ]
    }
   ],
   "source": [
    "%%writefile argparse_tutorial3.py \n",
    "\n",
    "import os\n",
    "import argparse\n",
    "\n",
    "parser = argparse.ArgumentParser(description='Argparse Tutorial2')\n",
    "parser.add_argument('--name', type=str, default=\"홍길동\", help=None)\n",
    "parser.add_argument('--height', type=float, default=175.0, help=None)\n",
    "parser.add_argument('--foot_size', type=int, default=270, help=None)\n",
    "parser.add_argument('--wish_list', type=list, default=[1, 2, 3, 4], help=None)\n",
    "\n",
    "args = parser.parse_args()\n",
    "\n",
    "def print_user_info(args):\n",
    "    print(f\"{args.name}의 키는 {args.height}, 발사이즈는 {args.foot_size} 입니다.\")\n",
    "\n",
    "print_user_info(args)\n",
    "\n"
   ]
  },
  {
   "cell_type": "code",
   "execution_count": 14,
   "id": "dc8cb2fa",
   "metadata": {},
   "outputs": [
    {
     "data": {
      "text/plain": [
       "'C:\\\\Users\\\\ye200\\\\Aiffel\\\\Torch-Master\\\\Practice'"
      ]
     },
     "execution_count": 14,
     "metadata": {},
     "output_type": "execute_result"
    }
   ],
   "source": [
    "%pwd"
   ]
  },
  {
   "cell_type": "code",
   "execution_count": 12,
   "id": "3a8e4519",
   "metadata": {},
   "outputs": [
    {
     "name": "stdout",
     "output_type": "stream",
     "text": [
      "조해창의 키는 340.0, 발사이즈는 310 입니다.\n"
     ]
    }
   ],
   "source": [
    "!python argparse_tutorial3.py --name \"조해창\" --height 340 --foot_size 310"
   ]
  },
  {
   "cell_type": "markdown",
   "id": "10f87b1b",
   "metadata": {},
   "source": [
    "## Quiz (Easy)  \n",
    "딥러닝 모델의 하이퍼파라미터에는 무엇이 있었나요?  \n",
    "epoch, learning_rate, batch_size, kernel_size, stride"
   ]
  },
  {
   "cell_type": "markdown",
   "id": "75e0ff90",
   "metadata": {},
   "source": [
    "## Quiz (Easy)  \n",
    "argparser를 통해 아래의 파라미터를 입력 받을 수 있도록 파이썬 파일을 만들어보세요  \n",
    "파일의 이름은 run_cnn.py 로 만드세요.  \n",
    "위 블록의 내용을 활용해서 run_cnn의 상단에 하이퍼 파라미터들을 입력받는 argparser를 구현합니다.  \n",
    "입력받은 하이퍼파라미터들을 출력하세요. \n"
   ]
  },
  {
   "cell_type": "markdown",
   "id": "b8538236",
   "metadata": {},
   "source": [
    "## Quiz (Easy)\n",
    "아래 블록에 있는 모든 코드들을 복사해서 run_cnn 파이썬 파일에 붙여넣은 후,  \n",
    "입력 받은 하이퍼파라미터들을 적절한 위치에 할당하세요  "
   ]
  },
  {
   "cell_type": "code",
   "execution_count": 3,
   "id": "f75dceba",
   "metadata": {},
   "outputs": [],
   "source": [
    "%%writefile run_cnn.py \n",
    "\n",
    "parser = argparse.ArgumentParser(description='run_cnn')\n",
    "parser.add_argument('--batch_size', type=int, default=32, help=None)\n",
    "parser.add_argument('--learning_rate', type=float, default=0.001, help=None)\n",
    "parser.add_argument('--epochs', type=int, default=5, help=None)\n",
    "parser.add_argument('--kernel_size', type=int, default=3, help=None)\n",
    "parser.add_argument('--stride', type=int, default=2, help=None)\n",
    "\n",
    "args = parser.parse_args()\n",
    "\n",
    "import torch\n",
    "import torch.nn as nn\n",
    "import torch.nn.functional as F\n",
    "import torch.optim as optim\n",
    "import numpy as np\n",
    "\n",
    "from torch.utils.data import DataLoader, Dataset \n",
    "from torchvision import datasets, transforms\n",
    "\n",
    "# Hyperparameters\n",
    "batch_size = args.batch_size\n",
    "learning_rate = args.learning_rate\n",
    "epochs = args.epochs\n",
    "kernel_size = args.kernel_size\n",
    "stride = args.stride\n",
    "\n",
    "device = torch.device('cuda') if torch.cuda.is_available() else torch.device('cpu')\n",
    "train_dataset = datasets.MNIST(root='./mnist_data/', train=True, download=True, transform=transforms.ToTensor())\n",
    "valid_dataset = datasets.MNIST(root='./mnist_data/', train=False, download=True, transform=transforms.ToTensor())\n",
    "test_dataset = datasets.MNIST(root='./mnist_data/', train=False, download=True, transform=transforms.ToTensor())\n",
    "train_loader = DataLoader(dataset=train_dataset, batch_size=batch_size, shuffle=True)\n",
    "vaild_loader = DataLoader(dataset=test_dataset, batch_size=batch_size, shuffle=True)\n",
    "test_loader = DataLoader(dataset=test_dataset, batch_size=batch_size, shuffle=True)\n",
    "\n",
    "shape = train_dataset[0][0].shape\n",
    "print(shape)\n",
    "C = shape[0]\n",
    "W = shape[1]\n",
    "H = shape[2]\n",
    "print(C, W, H)\n",
    "\n",
    "def train(epoch, model, loss_func, train_loader, optimizer):\n",
    "    model.train()\n",
    "    for batch_index, (x, y) in enumerate(train_loader):\n",
    "        x, y = x.to(device), y.to(device)\n",
    "        optimizer.zero_grad()\n",
    "        y_pred = model(x)\n",
    "        loss = loss_func(y_pred, y)\n",
    "        loss.backward()\n",
    "        optimizer.step()\n",
    "        if batch_index % 100 == 0:\n",
    "            print(f'Train Epoch: {epoch+1} | Batch Status: {batch_index*len(x)}/{len(train_loader.dataset)} \\\n",
    "            ({100. * batch_index * batch_size / len(train_loader.dataset):.0f}% | Loss: {loss.item():.6f}')\n",
    "\n",
    "def test(model, loss_func, test_loader):\n",
    "    model.eval()\n",
    "    test_loss = 0\n",
    "    correct_count = 0\n",
    "    for x, y in test_loader:\n",
    "        x, y = x.to(device), y.to(device)\n",
    "        y_pred = model(x)\n",
    "        test_loss += loss_func(y_pred, y).item()\n",
    "        pred = y_pred.data.max(1, keepdim=True)[1]\n",
    "        # torch.eq : Computes element-wise equality. return counts value\n",
    "        correct_count += pred.eq(y.data.view_as(pred)).cpu().sum()\n",
    "    \n",
    "    test_loss /= len(test_loader.dataset)\n",
    "    print(f'=======================\\n Test set: Average loss: {test_loss:.4f}, Accuracy: {correct_count/len(test_loader.dataset):.3}')\n",
    "    \n",
    "class CNN(nn.Module):\n",
    "    def __init__(self, C, W, H, K, S): # 채널, 너비, 높이, 커널 사이즈, 스트라이드\n",
    "        super(CNN, self).__init__()\n",
    "        # nn.Module에는 이미 conv 레이어가 구현되어 있다. \n",
    "        # 배치정규화도 구현되어있고 다 구현되어있습니다. \n",
    "        self.conv1 = nn.Conv2d(C, 32, kernel_size=K, stride=S)\n",
    "        self.bn1 = nn.BatchNorm2d(32)\n",
    "        self.conv2 = nn.Conv2d(32, 64, kernel_size=K, stride=S)\n",
    "        self.bn2 = nn.BatchNorm2d(64)\n",
    "        self.conv3 = nn.Conv2d(64, 128, kernel_size=K, stride=S)\n",
    "        self.bn3 = nn.BatchNorm2d(128)\n",
    "        \n",
    "        def conv2d_size_out(size, kernel_size=K, stride=S):\n",
    "            print((size - (kernel_size - 1) - 1) // stride + 1)\n",
    "            return (size - (kernel_size - 1) - 1) // stride + 1\n",
    "        \n",
    "        convw = conv2d_size_out(W, K, S)\n",
    "        convw = conv2d_size_out(convw, K, S)\n",
    "        convw = conv2d_size_out(convw, K, S)\n",
    "        \n",
    "        self.linear_input_size = convw * convw * 128\n",
    "        self.fc = nn.Linear(self.linear_input_size, 10)\n",
    "        \n",
    "    def forward(self, x):\n",
    "        x = F.relu(self.bn1(self.conv1(x)))\n",
    "        x = F.relu(self.bn2(self.conv2(x)))\n",
    "        x = F.relu(self.bn3(self.conv3(x)))\n",
    "        x = x.view(x.size(0), -1) # (batch_size, flatten_size)\n",
    "        x = F.relu(self.fc(x))\n",
    "        return F.log_softmax(x)\n",
    "    \n",
    "cnn = CNN(C=C, W=W, H=H, K=3, S=2) \n",
    "cnn = cnn.to(device)\n",
    "ce_loss = nn.CrossEntropyLoss()\n",
    "optimizer = optim.Adam(cnn.parameters(), lr=learning_rate)    \n",
    "\n",
    "for epoch in range(epochs):\n",
    "    train(epoch, cnn, ce_loss, train_loader, optimizer)\n",
    "\n",
    "test(cnn, ce_loss, test_loader)"
   ]
  }
 ],
 "metadata": {
  "kernelspec": {
   "display_name": "Python 3 (ipykernel)",
   "language": "python",
   "name": "python3"
  },
  "language_info": {
   "codemirror_mode": {
    "name": "ipython",
    "version": 3
   },
   "file_extension": ".py",
   "mimetype": "text/x-python",
   "name": "python",
   "nbconvert_exporter": "python",
   "pygments_lexer": "ipython3",
   "version": "3.7.11"
  }
 },
 "nbformat": 4,
 "nbformat_minor": 5
}
