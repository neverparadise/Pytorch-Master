{
 "cells": [
  {
   "cell_type": "markdown",
   "id": "735b2119",
   "metadata": {},
   "source": [
    " ## 5. 텐서의 연산"
   ]
  },
  {
   "cell_type": "markdown",
   "id": "8bcd518f",
   "metadata": {},
   "source": [
    "파이토치에서 다루는 모든 벡터, 행렬, 텐서들에 대해서  \n",
    "덧셈, 뺄셈, 내적, 외적을 할 수 있습니다.  "
   ]
  },
  {
   "cell_type": "code",
   "execution_count": 1,
   "id": "b22ced10",
   "metadata": {},
   "outputs": [],
   "source": [
    "import torch as th\n",
    "from torch import tensor"
   ]
  },
  {
   "cell_type": "code",
   "execution_count": 5,
   "id": "39605e64",
   "metadata": {},
   "outputs": [
    {
     "name": "stdout",
     "output_type": "stream",
     "text": [
      "torch.Size([3])\n",
      "torch.Size([1, 3])\n",
      "torch.Size([1, 3])\n"
     ]
    }
   ],
   "source": [
    "# in place operation : 별도의 메모리 할당 없이 텐서를 조작하는 연산\n",
    "\n",
    "vec1 = tensor([1, 2, 3])\n",
    "print(vec1.shape)\n",
    "unsq_vec1 = vec1.unsqueeze(0)\n",
    "print(unsq_vec1.shape)\n",
    "vec1.unsqueeze_(0)\n",
    "print(vec1.shape)\n"
   ]
  },
  {
   "cell_type": "code",
   "execution_count": 3,
   "id": "38cf0097",
   "metadata": {},
   "outputs": [],
   "source": [
    "vec1 = tensor([1, 2, 3])\n",
    "vec2 = tensor([4, 5, 6])"
   ]
  },
  {
   "cell_type": "code",
   "execution_count": 5,
   "id": "d95478f5",
   "metadata": {},
   "outputs": [
    {
     "name": "stdout",
     "output_type": "stream",
     "text": [
      "tensor(32)\n"
     ]
    }
   ],
   "source": [
    "# 벡터의 dot product를 위해서는 torch.dot 메소드 또는 tensor.dot 메소드를 사용합니다.\n",
    "vec3 = vec1.dot(vec2) # 1 * 4 + 2 * 5 + 3 * 6\n",
    "print(vec3)"
   ]
  },
  {
   "cell_type": "code",
   "execution_count": 6,
   "id": "5ce56c17",
   "metadata": {},
   "outputs": [
    {
     "name": "stdout",
     "output_type": "stream",
     "text": [
      "tensor([-3,  6, -3])\n"
     ]
    }
   ],
   "source": [
    "# 하이퍼 네트워크 : 딥러닝 모델의 가중치를 출력으로 하는 딥러닝 모델\n",
    "\n",
    "crosse_vec = th.cross(vec1, vec2) # 벡터의 길이가 3차원이어야 한다.\n",
    "print(crosse_vec)"
   ]
  },
  {
   "cell_type": "code",
   "execution_count": 9,
   "id": "59f40a22",
   "metadata": {
    "scrolled": true
   },
   "outputs": [
    {
     "name": "stdout",
     "output_type": "stream",
     "text": [
      "tensor([ 4, 10, 18])\n",
      "tensor([[ 5, 12],\n",
      "        [21, 32]])\n"
     ]
    }
   ],
   "source": [
    "# * : 에스터리스크(asterisk) 이 기호는 element wise product를 수행합니다.\n",
    "vec4 = vec1 * vec2\n",
    "print(vec4) # [4, 10, 18]\n",
    "\n",
    "# 모든 텐서는 에스터리스크 기호를 통해 원소곱을 수행할 수 있다. \n",
    "mat1 = tensor([[1, 2], \n",
    "              [3, 4]])\n",
    "mat2 = tensor([[5, 6], \n",
    "              [7, 8]])\n",
    "print(mat1 * mat2) # 5, 12, 21, 32"
   ]
  },
  {
   "cell_type": "code",
   "execution_count": 10,
   "id": "db30dcb9",
   "metadata": {},
   "outputs": [
    {
     "name": "stdout",
     "output_type": "stream",
     "text": [
      "tensor([[19, 22],\n",
      "        [43, 50]])\n",
      "tensor([[19, 22],\n",
      "        [43, 50]])\n"
     ]
    }
   ],
   "source": [
    "# at sign @ : 골뱅이 기호는 행렬곱을 수행하게 됩니다. \n",
    "# matmul 함수를 통해서도 행렬곱을 계산할 수 있다. \n",
    "\n",
    "mat4 = mat1 @ mat2\n",
    "mat5 = mat1.matmul(mat2)\n",
    "print(mat4)\n",
    "print(mat5)\n",
    "\n",
    "\n"
   ]
  },
  {
   "cell_type": "code",
   "execution_count": 12,
   "id": "1a7478d9",
   "metadata": {},
   "outputs": [
    {
     "name": "stdout",
     "output_type": "stream",
     "text": [
      "tensor([[[  7,  10],\n",
      "         [ 15,  22]],\n",
      "\n",
      "        [[ 67,  78],\n",
      "         [ 91, 106]]])\n",
      "tensor([[[  7,  10],\n",
      "         [ 15,  22]],\n",
      "\n",
      "        [[ 67,  78],\n",
      "         [ 91, 106]]])\n"
     ]
    }
   ],
   "source": [
    "ten1 = tensor([[[1, 2], \n",
    "              [3, 4]],\n",
    "                [[5, 6], \n",
    "              [7, 8]]])\n",
    "ten2 = tensor([[[1, 2], \n",
    "              [3, 4]],\n",
    "                [[5, 6], \n",
    "              [7, 8]]])\n",
    "\n",
    "# @ 기호는 matmul 기능을 수행한다!\n",
    "a = ten1.matmul(ten2)\n",
    "b = ten1 @ ten2\n",
    "print(a)\n",
    "print(b)"
   ]
  },
  {
   "cell_type": "markdown",
   "id": "f2b06a55",
   "metadata": {},
   "source": [
    "## 6. 텐서 차원 조작  *** 중요!!! ***\n",
    "딥러닝 모델에 데이터를 입력하기 위해 텐서의 차원을 정말 잘 다루어야 합니다.   \n",
    "이때 차원을 조작하는 메소드로는 다음과 같습니다.\n",
    "1) 차원 축소, 확장 :  squeeze(), unsqueeze()  \n",
    "2) 차원 교환 : transpose(), permute() : 순서를 바꾸다. 역순으로도 바꿀 수 있음. 인풋에 따라 순서를 바꿈.     \n",
    "3) 차원 조정 : flatten(), view() reshape()  \n",
    "4) 텐서 합성 및 적재 : cat() stack()  "
   ]
  },
  {
   "cell_type": "markdown",
   "id": "c34a7581",
   "metadata": {},
   "source": [
    "### 6.1 차원 축소, 확장 :  squeeze(), unsqueeze()  "
   ]
  },
  {
   "cell_type": "code",
   "execution_count": 19,
   "id": "abec8666",
   "metadata": {},
   "outputs": [
    {
     "name": "stdout",
     "output_type": "stream",
     "text": [
      "torch.Size([10, 32, 1, 1, 64, 64, 3])\n",
      "torch.Size([10, 32, 1, 1, 64, 64, 3])\n",
      "torch.Size([2, 2])\n"
     ]
    }
   ],
   "source": [
    "# torch.ones(shape)를 통해 모든 값이 1인 텐서를 쉽게 만들 수 있다.\n",
    "tensor_7d = th.ones([10, 32, 1, 1, 64, 64, 3])\n",
    "tensor_7d = th.zeros([10, 32, 1, 1, 64, 64, 3])\n",
    "\n",
    "# 차원의 모양을 일일히 입력하기 귀찮을 때 like가 붙은 메소드를 사용한다. \n",
    "tensor_7d2 = th.ones_like(tensor_7d)\n",
    "tensor_7d3 = th.zeros_like(tensor_7d)\n",
    "print(tensor_7d.shape)\n",
    "print(tensor_7d2.shape)\n",
    "\n",
    "# 항등행렬 .eye(shape)를 통해 만들 수 있다.\n",
    "eye_tensor = th.eye(2)\n",
    "print(eye_tensor.shape)\n",
    "\n",
    "# 항등텐서도 있을까?? 궁금해지네요\n",
    "v = th.randn(4)\n",
    "diag_tensor = th.diag(v)"
   ]
  },
  {
   "cell_type": "code",
   "execution_count": 21,
   "id": "5ddfee16",
   "metadata": {},
   "outputs": [
    {
     "name": "stdout",
     "output_type": "stream",
     "text": [
      "torch.Size([10, 32, 1, 64, 64, 3])\n",
      "torch.Size([10, 32, 64, 64, 3])\n"
     ]
    }
   ],
   "source": [
    "# torch.squeeze(axis) 함수는 차원의 크기가 1인 특정 축을 제거합니다. \n",
    "# axis 값이 없으면 크기가 1인 모든 축을 제거합니다. \n",
    "\n",
    "tensor_6d = tensor_7d.squeeze(axis=2) # shape에서 2번째 인덱스에 해당하는 축을 제거합니다. \n",
    "print(tensor_6d.shape) # [10, 32, 1, 64, 64, 3]\n",
    "tensor_5d = tensor_7d.squeeze()\n",
    "print(tensor_5d.shape) # [10, 32, 64, 64, 3]\n"
   ]
  },
  {
   "cell_type": "code",
   "execution_count": 22,
   "id": "65e3c4b7",
   "metadata": {},
   "outputs": [
    {
     "name": "stdout",
     "output_type": "stream",
     "text": [
      "torch.Size([32, 3, 64, 64])\n"
     ]
    }
   ],
   "source": [
    "tensor_4d = th.ones([32, 3, 64, 64])\n",
    "print(tensor_4d.shape)"
   ]
  },
  {
   "cell_type": "code",
   "execution_count": 27,
   "id": "c0153525",
   "metadata": {},
   "outputs": [
    {
     "name": "stdout",
     "output_type": "stream",
     "text": [
      "torch.Size([1, 32, 3, 64, 64])\n",
      "torch.Size([32, 3, 64, 64, 1])\n"
     ]
    }
   ],
   "source": [
    "# torch.unsqueeze(axis=m) : 차원의 크기가 1인 축을 m번째 인덱스에 추가합니다.\n",
    "# axis 값이 없으면 어디에 추가될까요? -> 없으면 에러가 난다!!\n",
    "# 퀴즈 : 0번째 인덱스에 잉여차원을 추가하세요\n",
    "# 마지막 인덱스에 잉여차원을 추가하세요\n",
    "\n",
    "# -1이 리스트에서 마지막 인덱스를 의미했는데 이는 토치에서도 똑같이 사용됩니다.\n",
    "tensor_5d = tensor_4d.unsqueeze(0)\n",
    "tensor_5d2 = tensor_4d.unsqueeze(4) # = -1 \n",
    "print(tensor_5d.shape)\n",
    "print(tensor_5d2.shape)\n"
   ]
  },
  {
   "cell_type": "markdown",
   "id": "4f74beb2",
   "metadata": {},
   "source": [
    "### 6.2 차원 교환 : transpose(), permute()  \n",
    "위 메소드들은 주로 데이터를 변환할 때 많이 사용합니다.  \n"
   ]
  },
  {
   "cell_type": "code",
   "execution_count": 28,
   "id": "1cce6a77",
   "metadata": {},
   "outputs": [
    {
     "name": "stdout",
     "output_type": "stream",
     "text": [
      "torch.Size([2, 3])\n"
     ]
    }
   ],
   "source": [
    "matrix = th.ones([2, 3])\n",
    "print(matrix.shape)"
   ]
  },
  {
   "cell_type": "code",
   "execution_count": 33,
   "id": "43155a1c",
   "metadata": {},
   "outputs": [
    {
     "name": "stdout",
     "output_type": "stream",
     "text": [
      "torch.Size([3, 2])\n",
      "torch.Size([3, 2])\n",
      "torch.Size([6, 2, 4, 11])\n"
     ]
    }
   ],
   "source": [
    "# torch.transpose(input, dim0, dim1) 는 인풋 텐서의 두 차원을 교환합니다.\n",
    "# torch.메소드를 호출하는 방법\n",
    "# tensor.메소드를 호출하는 방법\n",
    "transposed = th.transpose(matrix, 0, 1)\n",
    "print(transposed.shape)\n",
    "transposed2 = matrix.transpose(0, 1)\n",
    "print(transposed2.shape)\n",
    "\n",
    "tensor_4d = th.ones([4, 2, 6, 11])\n",
    "# 퀴즈 : 0번째, 2번째 차원을 교환하세요\n",
    "transposed_4d = tensor_4d.transpose(0, 2)\n",
    "print(transposed_4d.shape) # 6, 2, 4, 11\n"
   ]
  },
  {
   "cell_type": "code",
   "execution_count": 42,
   "id": "62d00f7b",
   "metadata": {},
   "outputs": [
    {
     "name": "stdout",
     "output_type": "stream",
     "text": [
      "torch.Size([11, 6, 4, 2])\n",
      "torch.Size([2, 4, 6, 11])\n"
     ]
    }
   ],
   "source": [
    "# torch.permute() : transpose의 상위버전 메소드. 차원 축 순서를 원하는 대로 나열한다.\n",
    "# 퀴즈 : tensor_4d의 차원축을 내림차순으로 정렬하세요.\n",
    "# 텐서 순서의 조정은 직접 해야 한다.\n",
    "\n",
    "permuted_4d = th.permute(tensor_4d, [3, 2, 0, 1])\n",
    "print(permuted_4d.shape)\n",
    "permuted_4d2 = th.permute(tensor_4d, (1, 0, 2, 3))\n",
    "print(permuted_4d2.shape)\n"
   ]
  },
  {
   "cell_type": "code",
   "execution_count": 48,
   "id": "f26ea8dc",
   "metadata": {},
   "outputs": [
    {
     "name": "stdout",
     "output_type": "stream",
     "text": [
      "(4, 2, 6, 11)\n",
      "{0: 4, 1: 2, 2: 6, 3: 11}\n",
      "[(0, 4), (1, 2), (2, 6), (3, 11)]\n"
     ]
    }
   ],
   "source": [
    "dic = tuple(tensor_4d.shape)\n",
    "print(dic)\n",
    "index_dic = {i: dic[i] for i in range(len(dic))}\n",
    "print(a)"
   ]
  },
  {
   "cell_type": "markdown",
   "id": "fcbf843f",
   "metadata": {},
   "source": [
    "matrix [[1, 2,], [3, 4]] -> [1, 2, 3, 4] -> reshape(2, 2)\n",
    "### 6.3 차원 조정 : flatten(),  reshape(), view()  \n",
    "위 세 가지 메소드는 주로 CNN 레이어에서 FC 레이어로 오고 갈 때 자주 사용합니다.  "
   ]
  },
  {
   "cell_type": "code",
   "execution_count": 51,
   "id": "6e62ba7d",
   "metadata": {},
   "outputs": [
    {
     "name": "stdout",
     "output_type": "stream",
     "text": [
      "torch.Size([2, 2, 2])\n"
     ]
    }
   ],
   "source": [
    "# torch.flatten() 메소드는 텐서전체를 1차원 벡터로 변환합니다.\n",
    "t = tensor([[[1, 2],\n",
    "            [3, 4]],\n",
    "           [[5, 6],\n",
    "           [7, 8]]])\n",
    "print(t.shape)"
   ]
  },
  {
   "cell_type": "code",
   "execution_count": 52,
   "id": "33c6657c",
   "metadata": {},
   "outputs": [
    {
     "name": "stdout",
     "output_type": "stream",
     "text": [
      "tensor([1, 2, 3, 4, 5, 6, 7, 8])\n",
      "torch.Size([8])\n"
     ]
    }
   ],
   "source": [
    "flattened_t = th.flatten(t)\n",
    "print(flattened_t)\n",
    "print(flattened_t.shape)"
   ]
  },
  {
   "cell_type": "code",
   "execution_count": 57,
   "id": "540e7b53",
   "metadata": {
    "scrolled": false
   },
   "outputs": [
    {
     "name": "stdout",
     "output_type": "stream",
     "text": [
      "tensor([[[1, 2],\n",
      "         [3, 4]],\n",
      "\n",
      "        [[5, 6],\n",
      "         [7, 8]]])\n",
      "torch.Size([2, 2, 2])\n"
     ]
    }
   ],
   "source": [
    "# 만약에 start_dim, end_dim이 주어지면 해당하는 차원부터 flatten합니다.\n",
    "flattened_t2 = th.flatten(t, start_dim=2)\n",
    "print(flattened_t2)\n",
    "print(flattened_t2.shape)"
   ]
  },
  {
   "cell_type": "code",
   "execution_count": 59,
   "id": "b75932a5",
   "metadata": {},
   "outputs": [],
   "source": [
    "import numpy as np"
   ]
  },
  {
   "cell_type": "code",
   "execution_count": 63,
   "id": "ac8c72b5",
   "metadata": {},
   "outputs": [
    {
     "name": "stdout",
     "output_type": "stream",
     "text": [
      "[1 0 2 3]\n"
     ]
    }
   ],
   "source": [
    "dic = tuple(tensor_4d.shape)\n",
    "out = np.argsort(dic)\n",
    "print(out)\n",
    "a = th.ones([32, 16, 48])"
   ]
  },
  {
   "cell_type": "code",
   "execution_count": 58,
   "id": "2462b37b",
   "metadata": {},
   "outputs": [
    {
     "data": {
      "text/plain": [
       "torch.Size([36])"
      ]
     },
     "execution_count": 58,
     "metadata": {},
     "output_type": "execute_result"
    }
   ],
   "source": [
    "# reshape() 메소드는 텐서를 원하는 모양을 가지도록 차원을 조정합니다.\n",
    "# 단 이때, 각 차원의 총 형태가 원래의 차원과 일치해야 합니다. ex 8 -> 2, 2, 2 or 4, 2\n",
    "t2 = th.arange(36)\n",
    "t2.shape"
   ]
  },
  {
   "cell_type": "code",
   "execution_count": 66,
   "id": "df7a5fc3",
   "metadata": {},
   "outputs": [
    {
     "name": "stdout",
     "output_type": "stream",
     "text": [
      "torch.Size([3, 3, 4])\n"
     ]
    }
   ],
   "source": [
    "# 퀴즈 : t2의 모양을 (3, 3, 4)로 바꿔보세요\n",
    "reshaped_t = t2.reshape(3, 3, 4)\n",
    "print(reshaped_t.shape)"
   ]
  },
  {
   "cell_type": "code",
   "execution_count": 70,
   "id": "0d27fb12",
   "metadata": {},
   "outputs": [
    {
     "name": "stdout",
     "output_type": "stream",
     "text": [
      "torch.Size([5, 4, 1247])\n"
     ]
    },
    {
     "data": {
      "text/plain": [
       "tensor([[5., 1.],\n",
       "        [2., 4.]])"
      ]
     },
     "execution_count": 70,
     "metadata": {},
     "output_type": "execute_result"
    }
   ],
   "source": [
    "# torch.view(-1, m, ...,) 차원의 크기가 아주 크고 복잡해서 reshape를 통해 일일히 계산하기 \n",
    "t3 = th.arange(24940)\n",
    "# 이때 -1 값이 들어가면 나머지 차원 축의 크기를 자동으로 계산합니다. \n",
    "# 퀴즈 : t3를 변환해서 두 개의 차원 축 값이 (5, 4, ?)인 텐서를 만드세요\n",
    "viewed_t1 = t3.view(5, 4, -1)\n",
    "viewed_t2 = t3.reshape(5, 4, -1)\n",
    "print(viewed_t1.shape)\n",
    "\n",
    "a = tensor([5.0, 1.0, 2.0, 4.0])\n",
    "\n",
    "# in-place operation : 메모리에 새로 텐서를 할당하지 않고 기존 메모리에서 연산하는 방법\n",
    "a = a.reshape(2, 2)\n",
    "a"
   ]
  },
  {
   "cell_type": "markdown",
   "id": "fc1b5ce1",
   "metadata": {},
   "source": [
    "결국 view()랑 reshape랑 같은 역할을 한다!!   \n",
    "그러나 gpu 메모리 내에서 메모리를 사용하는 방식이 다르다"
   ]
  },
  {
   "cell_type": "markdown",
   "id": "0e43157a",
   "metadata": {},
   "source": [
    "### 6.4 텐서 합성 및 적재 : cat() stack()  \n",
    "마지막으로 텐서를 합성하기 위해 cat()과 stack()을 활용합니다.  \n",
    "cat() 함수는 모델 내부에서 다음 은닉층에 들어가는 텐서들을 조합하기 위해 주로 사용합니다.  \n",
    "\n",
    "stack() 함수는 데이터를 쌓아서 미니배치를 구성할 때 주로 사용합니다.  "
   ]
  },
  {
   "cell_type": "code",
   "execution_count": 71,
   "id": "bf474bc0",
   "metadata": {},
   "outputs": [
    {
     "name": "stdout",
     "output_type": "stream",
     "text": [
      "tensor([1, 2, 3, 4, 5, 6, 7, 8, 9])\n"
     ]
    }
   ],
   "source": [
    "# torch.cat() 함수는 두 개 이상의 텐서 시퀀스들을 (특정 축을 기준으로) 합치게 됩니다. \n",
    "# 해당 텐서들의 차원은 반드시 같아야 합니다. \n",
    "vec1 = tensor([1, 2, 3])\n",
    "vec2 = tensor([4, 5, 6])\n",
    "vec3 = tensor([7, 8, 9])\n",
    "vec4 = th.cat([vec1, vec2, vec3])\n",
    "print(vec4)"
   ]
  },
  {
   "cell_type": "code",
   "execution_count": 73,
   "id": "1b679124",
   "metadata": {},
   "outputs": [
    {
     "name": "stdout",
     "output_type": "stream",
     "text": [
      "tensor([[1, 2, 3],\n",
      "        [4, 5, 6],\n",
      "        [7, 8, 9]])\n",
      "torch.Size([3, 3])\n",
      "tensor([[1, 4, 7],\n",
      "        [2, 5, 8],\n",
      "        [3, 6, 9]])\n",
      "torch.Size([3, 3])\n"
     ]
    }
   ],
   "source": [
    "# stack() 메소드는 두 개 이상의 텐서들을 특정 축을 기준으로 쌓게 됩니다.\n",
    "batch_vec = th.stack([vec1, vec2, vec3], dim=0)\n",
    "print(batch_vec)\n",
    "print(batch_vec.shape)\n",
    "\n",
    "batch_vec = th.stack([vec1, vec2, vec3], dim=1)\n",
    "print(batch_vec)\n",
    "print(batch_vec.shape)"
   ]
  },
  {
   "cell_type": "code",
   "execution_count": null,
   "id": "4f770d30",
   "metadata": {},
   "outputs": [],
   "source": [
    "th.mean()\n",
    "th.sum()\n",
    "th.min()\n",
    "th.argmin()\n",
    "th.max()\n",
    "th.argmax()"
   ]
  },
  {
   "cell_type": "markdown",
   "id": "11fcfac2",
   "metadata": {},
   "source": [
    "# 퀴즈 (Hard)\n",
    "1) 길이가 4096인 랜덤벡터를 하나 생성하세요.  \n",
    "2) 벡터를 위에서 배운 메소드들 중 하나를 이용해 (64x64) 정사각행렬로 차원을 조정하세요.  \n",
    "\n",
    "3) 1, 2의 과정을 반복해서 정사각행렬을 세 개 만든다음, 각각 텐서의 0번째 축에 크기가 1인 잉여차원을 추가하세요.  \n",
    "4) 0번째 축과 마지막 축을 교환하세요.   \n",
    "5) 리스트에 세 개의 정사각행렬을 담아서 마지막 축을 기준으로 텐서를 합성하세요 -> 64x64x3 텐서가 나와야함  \n",
    "6) 위의 과정을 4번 반복해서 64x64x3 를 쌓아서 4 x 64 x 64 x 3 텐서를 만드세요  "
   ]
  },
  {
   "cell_type": "code",
   "execution_count": 95,
   "id": "0632974a",
   "metadata": {},
   "outputs": [
    {
     "data": {
      "text/plain": [
       "<torch._C.Generator at 0x1cc5edeceb0>"
      ]
     },
     "execution_count": 95,
     "metadata": {},
     "output_type": "execute_result"
    }
   ],
   "source": [
    "th.manual_seed(1030)\n",
    "# code : "
   ]
  },
  {
   "cell_type": "code",
   "execution_count": null,
   "id": "05f2efb9",
   "metadata": {},
   "outputs": [],
   "source": []
  }
 ],
 "metadata": {
  "kernelspec": {
   "display_name": "Python 3 (ipykernel)",
   "language": "python",
   "name": "python3"
  },
  "language_info": {
   "codemirror_mode": {
    "name": "ipython",
    "version": 3
   },
   "file_extension": ".py",
   "mimetype": "text/x-python",
   "name": "python",
   "nbconvert_exporter": "python",
   "pygments_lexer": "ipython3",
   "version": "3.7.11"
  }
 },
 "nbformat": 4,
 "nbformat_minor": 5
}
