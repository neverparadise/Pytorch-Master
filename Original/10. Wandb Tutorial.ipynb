{
 "cells": [
  {
   "cell_type": "code",
   "execution_count": 1,
   "id": "1220c661",
   "metadata": {},
   "outputs": [
    {
     "name": "stdout",
     "output_type": "stream",
     "text": [
      "Collecting wandb\n",
      "  Downloading wandb-0.12.6-py2.py3-none-any.whl (1.7 MB)\n",
      "Collecting shortuuid>=0.5.0\n",
      "  Downloading shortuuid-1.0.8-py3-none-any.whl (9.5 kB)\n",
      "Collecting promise<3,>=2.0\n",
      "  Downloading promise-2.3.tar.gz (19 kB)\n",
      "Requirement already satisfied: PyYAML in c:\\users\\ye200\\anaconda3\\envs\\env\\lib\\site-packages (from wandb) (6.0)\n",
      "Collecting subprocess32>=3.5.3\n",
      "  Downloading subprocess32-3.5.4.tar.gz (97 kB)\n",
      "Collecting GitPython>=1.0.0\n",
      "  Downloading GitPython-3.1.24-py3-none-any.whl (180 kB)\n",
      "Collecting psutil>=5.0.0\n",
      "  Downloading psutil-5.8.0-cp37-cp37m-win_amd64.whl (244 kB)\n",
      "Requirement already satisfied: protobuf>=3.12.0 in c:\\users\\ye200\\anaconda3\\envs\\env\\lib\\site-packages (from wandb) (3.19.1)\n",
      "Collecting pathtools\n",
      "  Downloading pathtools-0.1.2.tar.gz (11 kB)\n",
      "Collecting yaspin>=1.0.0\n",
      "  Downloading yaspin-2.1.0-py3-none-any.whl (18 kB)\n",
      "Collecting docker-pycreds>=0.4.0\n",
      "  Downloading docker_pycreds-0.4.0-py2.py3-none-any.whl (9.0 kB)\n",
      "Requirement already satisfied: Click!=8.0.0,>=7.0 in c:\\users\\ye200\\anaconda3\\envs\\env\\lib\\site-packages (from wandb) (8.0.3)\n",
      "Collecting configparser>=3.8.1\n",
      "  Downloading configparser-5.1.0-py3-none-any.whl (19 kB)\n",
      "Requirement already satisfied: six>=1.13.0 in c:\\users\\ye200\\anaconda3\\envs\\env\\lib\\site-packages (from wandb) (1.16.0)\n",
      "Requirement already satisfied: python-dateutil>=2.6.1 in c:\\users\\ye200\\anaconda3\\envs\\env\\lib\\site-packages (from wandb) (2.8.2)\n",
      "Collecting sentry-sdk>=1.0.0\n",
      "  Downloading sentry_sdk-1.4.3-py2.py3-none-any.whl (139 kB)\n",
      "Requirement already satisfied: requests<3,>=2.0.0 in c:\\users\\ye200\\anaconda3\\envs\\env\\lib\\site-packages (from wandb) (2.26.0)\n",
      "Requirement already satisfied: colorama in c:\\users\\ye200\\anaconda3\\envs\\env\\lib\\site-packages (from Click!=8.0.0,>=7.0->wandb) (0.4.4)\n",
      "Requirement already satisfied: importlib-metadata in c:\\users\\ye200\\anaconda3\\envs\\env\\lib\\site-packages (from Click!=8.0.0,>=7.0->wandb) (4.8.1)\n",
      "Requirement already satisfied: typing-extensions>=3.7.4.3 in c:\\users\\ye200\\anaconda3\\envs\\env\\lib\\site-packages (from GitPython>=1.0.0->wandb) (3.10.0.2)\n",
      "Collecting gitdb<5,>=4.0.1\n",
      "  Downloading gitdb-4.0.9-py3-none-any.whl (63 kB)\n",
      "Collecting smmap<6,>=3.0.1\n",
      "  Downloading smmap-5.0.0-py3-none-any.whl (24 kB)\n",
      "Requirement already satisfied: charset-normalizer~=2.0.0 in c:\\users\\ye200\\anaconda3\\envs\\env\\lib\\site-packages (from requests<3,>=2.0.0->wandb) (2.0.7)\n",
      "Requirement already satisfied: urllib3<1.27,>=1.21.1 in c:\\users\\ye200\\anaconda3\\envs\\env\\lib\\site-packages (from requests<3,>=2.0.0->wandb) (1.26.7)\n",
      "Requirement already satisfied: idna<4,>=2.5 in c:\\users\\ye200\\anaconda3\\envs\\env\\lib\\site-packages (from requests<3,>=2.0.0->wandb) (3.3)\n",
      "Requirement already satisfied: certifi>=2017.4.17 in c:\\users\\ye200\\anaconda3\\envs\\env\\lib\\site-packages (from requests<3,>=2.0.0->wandb) (2021.5.30)\n",
      "Collecting termcolor<2.0.0,>=1.1.0\n",
      "  Downloading termcolor-1.1.0.tar.gz (3.9 kB)\n",
      "Requirement already satisfied: zipp>=0.5 in c:\\users\\ye200\\anaconda3\\envs\\env\\lib\\site-packages (from importlib-metadata->Click!=8.0.0,>=7.0->wandb) (3.5.0)\n",
      "Building wheels for collected packages: promise, subprocess32, termcolor, pathtools\n",
      "  Building wheel for promise (setup.py): started\n",
      "  Building wheel for promise (setup.py): finished with status 'done'\n",
      "  Created wheel for promise: filename=promise-2.3-py3-none-any.whl size=21493 sha256=9885ddfb70af56ec65ad5fa78017bd827bc6a561a4d8d6a9fbd8151dd57b747a\n",
      "  Stored in directory: c:\\users\\ye200\\appdata\\local\\pip\\cache\\wheels\\29\\93\\c6\\762e359f8cb6a5b69c72235d798804cae523bbe41c2aa8333d\n",
      "  Building wheel for subprocess32 (setup.py): started\n",
      "  Building wheel for subprocess32 (setup.py): finished with status 'done'\n",
      "  Created wheel for subprocess32: filename=subprocess32-3.5.4-py3-none-any.whl size=6488 sha256=24e153e7c25d39bbc845078f9582bc2038492895a8a86f298b5339223d526e88\n",
      "  Stored in directory: c:\\users\\ye200\\appdata\\local\\pip\\cache\\wheels\\50\\ca\\fa\\8fca8d246e64f19488d07567547ddec8eb084e8c0d7a59226a\n",
      "  Building wheel for termcolor (setup.py): started\n",
      "  Building wheel for termcolor (setup.py): finished with status 'done'\n",
      "  Created wheel for termcolor: filename=termcolor-1.1.0-py3-none-any.whl size=4829 sha256=4b2deb6356b43c3b5980b7d1161f7836682ac642c85dd7c4c9c600465ad412fb\n",
      "  Stored in directory: c:\\users\\ye200\\appdata\\local\\pip\\cache\\wheels\\3f\\e3\\ec\\8a8336ff196023622fbcb36de0c5a5c218cbb24111d1d4c7f2\n",
      "  Building wheel for pathtools (setup.py): started\n",
      "  Building wheel for pathtools (setup.py): finished with status 'done'\n",
      "  Created wheel for pathtools: filename=pathtools-0.1.2-py3-none-any.whl size=8784 sha256=7af357a58e8b86197073fcf6e630f8c1914de07ff486fceeab84f424ea6431c3\n",
      "  Stored in directory: c:\\users\\ye200\\appdata\\local\\pip\\cache\\wheels\\3e\\31\\09\\fa59cef12cdcfecc627b3d24273699f390e71828921b2cbba2\n",
      "Successfully built promise subprocess32 termcolor pathtools\n",
      "Installing collected packages: smmap, termcolor, gitdb, yaspin, subprocess32, shortuuid, sentry-sdk, psutil, promise, pathtools, GitPython, docker-pycreds, configparser, wandb\n",
      "Successfully installed GitPython-3.1.24 configparser-5.1.0 docker-pycreds-0.4.0 gitdb-4.0.9 pathtools-0.1.2 promise-2.3 psutil-5.8.0 sentry-sdk-1.4.3 shortuuid-1.0.8 smmap-5.0.0 subprocess32-3.5.4 termcolor-1.1.0 wandb-0.12.6 yaspin-2.1.0\n"
     ]
    }
   ],
   "source": [
    "!pip install wandb"
   ]
  },
  {
   "cell_type": "code",
   "execution_count": null,
   "id": "43d29d60",
   "metadata": {},
   "outputs": [],
   "source": [
    "import wandb"
   ]
  },
  {
   "cell_type": "code",
   "execution_count": null,
   "id": "9539192c",
   "metadata": {},
   "outputs": [],
   "source": [
    "# API 키를 이용해 로그인 가능\n",
    "!wandb login \"API\""
   ]
  },
  {
   "cell_type": "code",
   "execution_count": null,
   "id": "8f62bd60",
   "metadata": {},
   "outputs": [],
   "source": [
    "from subprocess import call\n",
    "call([\"wandb\", \"login\", \"발급받은 API 키 입력\"])"
   ]
  },
  {
   "cell_type": "code",
   "execution_count": null,
   "id": "f346f558",
   "metadata": {},
   "outputs": [],
   "source": [
    "entity = 'rl_flip_school_team'"
   ]
  }
 ],
 "metadata": {
  "kernelspec": {
   "display_name": "Python 3 (ipykernel)",
   "language": "python",
   "name": "python3"
  },
  "language_info": {
   "codemirror_mode": {
    "name": "ipython",
    "version": 3
   },
   "file_extension": ".py",
   "mimetype": "text/x-python",
   "name": "python",
   "nbconvert_exporter": "python",
   "pygments_lexer": "ipython3",
   "version": "3.7.11"
  }
 },
 "nbformat": 4,
 "nbformat_minor": 5
}
